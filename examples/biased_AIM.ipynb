{
 "cells": [
  {
   "cell_type": "code",
   "execution_count": null,
   "id": "aec74145-b7f0-4c38-a3db-db9e21e8a6fb",
   "metadata": {
    "tags": []
   },
   "outputs": [],
   "source": [
    "import numpy as np\n",
    "import nca\n",
    "from matplotlib import pyplot as plt\n"
   ]
  },
  {
   "cell_type": "markdown",
   "id": "585618d1-fad0-4288-8c3e-e31cbce4bc03",
   "metadata": {},
   "source": [
    "## Define model"
   ]
  },
  {
   "cell_type": "code",
   "execution_count": null,
   "id": "108ea96a-bd29-483b-8504-6cf562477cf8",
   "metadata": {
    "tags": []
   },
   "outputs": [],
   "source": [
    "## takes about 2 min\n",
    "U = 10.\n",
    "mu = 4.\n",
    "g = 2.\n",
    "D = 20.\n",
    "Gamma = 2 * g**2 / D\n",
    "beta = 10.\n",
    "mu_L = -1.\n",
    "mu_R = 0.5\n",
    "time_mesh = nca.Mesh(200., int(1e5)).adjoint()\n",
    "\n",
    "dos = nca.make_gaussian_dos(D)\n",
    "delta_L_grea, delta_L_less = nca.make_hyb_times(dos, beta, mu_L, Gamma * dos(0.) / dos(mu_L), time_mesh)\n",
    "delta_R_grea, delta_R_less = nca.make_hyb_times(dos, beta, mu_R, Gamma * dos(0.) / dos(mu_R), time_mesh)\n",
    "\n",
    "H_loc = np.asarray([0., -mu, -mu, -2*mu + U])\n",
    "\n",
    "S = nca.SolverSteadyState(2, H_loc, time_mesh, orbital_names=['up', 'dn'])\n",
    "S.add_bath(0, lambda t: delta_L_grea(t) + delta_R_grea(t), lambda t: delta_L_less(t) + delta_R_less(t))\n",
    "S.add_bath(1, lambda t: delta_L_grea(t) + delta_R_grea(t), lambda t: delta_L_less(t) + delta_R_less(t))\n"
   ]
  },
  {
   "cell_type": "code",
   "execution_count": null,
   "id": "11b6c16f-4ec2-4d3d-965f-a445414e32de",
   "metadata": {
    "tags": []
   },
   "outputs": [],
   "source": [
    "times_plot = np.linspace(-1, 1, 300)\n",
    "\n",
    "plt.plot(times_plot, delta_L_grea(times_plot).real, '-b')\n",
    "plt.plot(times_plot, delta_L_grea(times_plot).imag, '-r')\n",
    "\n",
    "plt.show()\n",
    "\n",
    "plt.plot(times_plot, delta_R_grea(times_plot).real, '-b')\n",
    "plt.plot(times_plot, delta_R_grea(times_plot).imag, '-r')\n",
    "\n",
    "plt.show()"
   ]
  },
  {
   "cell_type": "markdown",
   "id": "182ef9dd-6982-4064-a525-0f2a2d9da8c8",
   "metadata": {},
   "source": [
    "## Run computation"
   ]
  },
  {
   "cell_type": "code",
   "execution_count": null,
   "id": "4457d489-9124-40dd-a4fd-2369ed1edcb0",
   "metadata": {
    "tags": []
   },
   "outputs": [],
   "source": [
    "S.greater_loop(max_iter=20, verbose=True)\n",
    "\n",
    "print(\"Normalization error:\", S.get_normalization_error())\n",
    "print()\n",
    "\n",
    "S.lesser_loop(verbose=True)"
   ]
  },
  {
   "cell_type": "markdown",
   "id": "da3fd8e4-14b5-44df-89e5-0ce3a455fc43",
   "metadata": {},
   "source": [
    "## Get results: R and S"
   ]
  },
  {
   "cell_type": "code",
   "execution_count": null,
   "id": "b5a00133-1c29-4805-8bc2-8f1f745ecbd0",
   "metadata": {
    "tags": []
   },
   "outputs": [],
   "source": [
    "R_grea_w = S.get_R_grea_w()\n",
    "R_less_w = S.get_R_less_w()\n",
    "\n",
    "S_grea_w = S.get_S_grea_w()\n",
    "S_less_w = S.get_S_less_w()"
   ]
  },
  {
   "cell_type": "code",
   "execution_count": null,
   "id": "af89ed33-7462-43f9-a574-031ce38b8618",
   "metadata": {
    "tags": []
   },
   "outputs": [],
   "source": [
    "S.state_space.basis"
   ]
  },
  {
   "cell_type": "code",
   "execution_count": null,
   "id": "bba3fee3-0221-4d8d-b952-fa0e91872a47",
   "metadata": {
    "tags": []
   },
   "outputs": [],
   "source": [
    "for i in range(4):\n",
    "    plt.plot(S.freq_mesh, -R_grea_w[:, i], '-', label=f'state \"{S.state_space.basis[i]}\"')\n",
    "\n",
    "plt.xlim(-20, 20)\n",
    "# plt.semilogy()\n",
    "plt.legend()\n",
    "\n",
    "plt.show()"
   ]
  },
  {
   "cell_type": "code",
   "execution_count": null,
   "id": "682d49c8-60a8-4431-9930-2436def1f704",
   "metadata": {
    "tags": []
   },
   "outputs": [],
   "source": [
    "\n",
    "for i in range(4):\n",
    "    plt.plot(S.freq_mesh, S_grea_w[:, i].real, '-', label=f'state \"{S.state_space.basis[i]}\"')\n",
    "    \n",
    "plt.xlim(-10, 25)\n",
    "plt.ylim(-3, 1)\n",
    "plt.legend()\n",
    "\n",
    "plt.show()"
   ]
  },
  {
   "cell_type": "markdown",
   "id": "21060fd6-a3b6-49de-8f4e-622312521ddd",
   "metadata": {},
   "source": [
    "## Get results: Green function"
   ]
  },
  {
   "cell_type": "code",
   "execution_count": null,
   "id": "ce8febc2-eab9-4863-8696-147545b694b4",
   "metadata": {
    "tags": []
   },
   "outputs": [],
   "source": [
    "freq_mesh, gf = S.get_G_reta_w(0) # orbital 0 is up"
   ]
  },
  {
   "cell_type": "code",
   "execution_count": null,
   "id": "ef8a5e52-50e6-45ab-8fb8-15baeca74e48",
   "metadata": {
    "tags": []
   },
   "outputs": [],
   "source": [
    "plt.plot(freq_mesh, -gf.imag / np.pi)\n",
    "\n",
    "plt.xlim(-15, 15)\n",
    "\n",
    "plt.show()"
   ]
  },
  {
   "cell_type": "code",
   "execution_count": null,
   "id": "1a44e96c-fc0a-4505-9211-51039fbea646",
   "metadata": {},
   "outputs": [],
   "source": []
  }
 ],
 "metadata": {
  "kernelspec": {
   "display_name": "MyEnv3",
   "language": "python",
   "name": "myenv3"
  },
  "language_info": {
   "codemirror_mode": {
    "name": "ipython",
    "version": 3
   },
   "file_extension": ".py",
   "mimetype": "text/x-python",
   "name": "python",
   "nbconvert_exporter": "python",
   "pygments_lexer": "ipython3",
   "version": "3.9.18"
  }
 },
 "nbformat": 4,
 "nbformat_minor": 5
}
